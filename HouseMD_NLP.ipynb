{
  "nbformat": 4,
  "nbformat_minor": 0,
  "metadata": {
    "colab": {
      "provenance": [],
      "gpuType": "T4"
    },
    "kernelspec": {
      "name": "python3",
      "display_name": "Python 3"
    },
    "language_info": {
      "name": "python"
    },
    "accelerator": "GPU",
    "widgets": {
      "application/vnd.jupyter.widget-state+json": {
        "ba6d3372e69040b1b6dc34e0876ac935": {
          "model_module": "@jupyter-widgets/controls",
          "model_name": "HBoxModel",
          "model_module_version": "1.5.0",
          "state": {
            "_dom_classes": [],
            "_model_module": "@jupyter-widgets/controls",
            "_model_module_version": "1.5.0",
            "_model_name": "HBoxModel",
            "_view_count": null,
            "_view_module": "@jupyter-widgets/controls",
            "_view_module_version": "1.5.0",
            "_view_name": "HBoxView",
            "box_style": "",
            "children": [
              "IPY_MODEL_ba9ecdad1876496f8efc05429791116e",
              "IPY_MODEL_0dbcfe7d699f4bb3a4edd0191949dace",
              "IPY_MODEL_ffe5aa1f3dc547938a09af07e1f1f02d"
            ],
            "layout": "IPY_MODEL_3689ffa2eccf4be39089ac9e19199a6b"
          }
        },
        "ba9ecdad1876496f8efc05429791116e": {
          "model_module": "@jupyter-widgets/controls",
          "model_name": "HTMLModel",
          "model_module_version": "1.5.0",
          "state": {
            "_dom_classes": [],
            "_model_module": "@jupyter-widgets/controls",
            "_model_module_version": "1.5.0",
            "_model_name": "HTMLModel",
            "_view_count": null,
            "_view_module": "@jupyter-widgets/controls",
            "_view_module_version": "1.5.0",
            "_view_name": "HTMLView",
            "description": "",
            "description_tooltip": null,
            "layout": "IPY_MODEL_0c7c6e10dd17466e914b2a354a2d965e",
            "placeholder": "​",
            "style": "IPY_MODEL_da1a839e385c4d7f85960748dfeb263a",
            "value": "tokenizer_config.json: 100%"
          }
        },
        "0dbcfe7d699f4bb3a4edd0191949dace": {
          "model_module": "@jupyter-widgets/controls",
          "model_name": "FloatProgressModel",
          "model_module_version": "1.5.0",
          "state": {
            "_dom_classes": [],
            "_model_module": "@jupyter-widgets/controls",
            "_model_module_version": "1.5.0",
            "_model_name": "FloatProgressModel",
            "_view_count": null,
            "_view_module": "@jupyter-widgets/controls",
            "_view_module_version": "1.5.0",
            "_view_name": "ProgressView",
            "bar_style": "success",
            "description": "",
            "description_tooltip": null,
            "layout": "IPY_MODEL_700cf1104a0547c28146b8ccf66df7f6",
            "max": 26,
            "min": 0,
            "orientation": "horizontal",
            "style": "IPY_MODEL_4fc21924850049249f2c7eede3b88bd3",
            "value": 26
          }
        },
        "ffe5aa1f3dc547938a09af07e1f1f02d": {
          "model_module": "@jupyter-widgets/controls",
          "model_name": "HTMLModel",
          "model_module_version": "1.5.0",
          "state": {
            "_dom_classes": [],
            "_model_module": "@jupyter-widgets/controls",
            "_model_module_version": "1.5.0",
            "_model_name": "HTMLModel",
            "_view_count": null,
            "_view_module": "@jupyter-widgets/controls",
            "_view_module_version": "1.5.0",
            "_view_name": "HTMLView",
            "description": "",
            "description_tooltip": null,
            "layout": "IPY_MODEL_37552c33407944ef9aa54f26e9b0f718",
            "placeholder": "​",
            "style": "IPY_MODEL_89273491620a44f28d605fa575791609",
            "value": " 26.0/26.0 [00:00&lt;00:00, 1.08kB/s]"
          }
        },
        "3689ffa2eccf4be39089ac9e19199a6b": {
          "model_module": "@jupyter-widgets/base",
          "model_name": "LayoutModel",
          "model_module_version": "1.2.0",
          "state": {
            "_model_module": "@jupyter-widgets/base",
            "_model_module_version": "1.2.0",
            "_model_name": "LayoutModel",
            "_view_count": null,
            "_view_module": "@jupyter-widgets/base",
            "_view_module_version": "1.2.0",
            "_view_name": "LayoutView",
            "align_content": null,
            "align_items": null,
            "align_self": null,
            "border": null,
            "bottom": null,
            "display": null,
            "flex": null,
            "flex_flow": null,
            "grid_area": null,
            "grid_auto_columns": null,
            "grid_auto_flow": null,
            "grid_auto_rows": null,
            "grid_column": null,
            "grid_gap": null,
            "grid_row": null,
            "grid_template_areas": null,
            "grid_template_columns": null,
            "grid_template_rows": null,
            "height": null,
            "justify_content": null,
            "justify_items": null,
            "left": null,
            "margin": null,
            "max_height": null,
            "max_width": null,
            "min_height": null,
            "min_width": null,
            "object_fit": null,
            "object_position": null,
            "order": null,
            "overflow": null,
            "overflow_x": null,
            "overflow_y": null,
            "padding": null,
            "right": null,
            "top": null,
            "visibility": null,
            "width": null
          }
        },
        "0c7c6e10dd17466e914b2a354a2d965e": {
          "model_module": "@jupyter-widgets/base",
          "model_name": "LayoutModel",
          "model_module_version": "1.2.0",
          "state": {
            "_model_module": "@jupyter-widgets/base",
            "_model_module_version": "1.2.0",
            "_model_name": "LayoutModel",
            "_view_count": null,
            "_view_module": "@jupyter-widgets/base",
            "_view_module_version": "1.2.0",
            "_view_name": "LayoutView",
            "align_content": null,
            "align_items": null,
            "align_self": null,
            "border": null,
            "bottom": null,
            "display": null,
            "flex": null,
            "flex_flow": null,
            "grid_area": null,
            "grid_auto_columns": null,
            "grid_auto_flow": null,
            "grid_auto_rows": null,
            "grid_column": null,
            "grid_gap": null,
            "grid_row": null,
            "grid_template_areas": null,
            "grid_template_columns": null,
            "grid_template_rows": null,
            "height": null,
            "justify_content": null,
            "justify_items": null,
            "left": null,
            "margin": null,
            "max_height": null,
            "max_width": null,
            "min_height": null,
            "min_width": null,
            "object_fit": null,
            "object_position": null,
            "order": null,
            "overflow": null,
            "overflow_x": null,
            "overflow_y": null,
            "padding": null,
            "right": null,
            "top": null,
            "visibility": null,
            "width": null
          }
        },
        "da1a839e385c4d7f85960748dfeb263a": {
          "model_module": "@jupyter-widgets/controls",
          "model_name": "DescriptionStyleModel",
          "model_module_version": "1.5.0",
          "state": {
            "_model_module": "@jupyter-widgets/controls",
            "_model_module_version": "1.5.0",
            "_model_name": "DescriptionStyleModel",
            "_view_count": null,
            "_view_module": "@jupyter-widgets/base",
            "_view_module_version": "1.2.0",
            "_view_name": "StyleView",
            "description_width": ""
          }
        },
        "700cf1104a0547c28146b8ccf66df7f6": {
          "model_module": "@jupyter-widgets/base",
          "model_name": "LayoutModel",
          "model_module_version": "1.2.0",
          "state": {
            "_model_module": "@jupyter-widgets/base",
            "_model_module_version": "1.2.0",
            "_model_name": "LayoutModel",
            "_view_count": null,
            "_view_module": "@jupyter-widgets/base",
            "_view_module_version": "1.2.0",
            "_view_name": "LayoutView",
            "align_content": null,
            "align_items": null,
            "align_self": null,
            "border": null,
            "bottom": null,
            "display": null,
            "flex": null,
            "flex_flow": null,
            "grid_area": null,
            "grid_auto_columns": null,
            "grid_auto_flow": null,
            "grid_auto_rows": null,
            "grid_column": null,
            "grid_gap": null,
            "grid_row": null,
            "grid_template_areas": null,
            "grid_template_columns": null,
            "grid_template_rows": null,
            "height": null,
            "justify_content": null,
            "justify_items": null,
            "left": null,
            "margin": null,
            "max_height": null,
            "max_width": null,
            "min_height": null,
            "min_width": null,
            "object_fit": null,
            "object_position": null,
            "order": null,
            "overflow": null,
            "overflow_x": null,
            "overflow_y": null,
            "padding": null,
            "right": null,
            "top": null,
            "visibility": null,
            "width": null
          }
        },
        "4fc21924850049249f2c7eede3b88bd3": {
          "model_module": "@jupyter-widgets/controls",
          "model_name": "ProgressStyleModel",
          "model_module_version": "1.5.0",
          "state": {
            "_model_module": "@jupyter-widgets/controls",
            "_model_module_version": "1.5.0",
            "_model_name": "ProgressStyleModel",
            "_view_count": null,
            "_view_module": "@jupyter-widgets/base",
            "_view_module_version": "1.2.0",
            "_view_name": "StyleView",
            "bar_color": null,
            "description_width": ""
          }
        },
        "37552c33407944ef9aa54f26e9b0f718": {
          "model_module": "@jupyter-widgets/base",
          "model_name": "LayoutModel",
          "model_module_version": "1.2.0",
          "state": {
            "_model_module": "@jupyter-widgets/base",
            "_model_module_version": "1.2.0",
            "_model_name": "LayoutModel",
            "_view_count": null,
            "_view_module": "@jupyter-widgets/base",
            "_view_module_version": "1.2.0",
            "_view_name": "LayoutView",
            "align_content": null,
            "align_items": null,
            "align_self": null,
            "border": null,
            "bottom": null,
            "display": null,
            "flex": null,
            "flex_flow": null,
            "grid_area": null,
            "grid_auto_columns": null,
            "grid_auto_flow": null,
            "grid_auto_rows": null,
            "grid_column": null,
            "grid_gap": null,
            "grid_row": null,
            "grid_template_areas": null,
            "grid_template_columns": null,
            "grid_template_rows": null,
            "height": null,
            "justify_content": null,
            "justify_items": null,
            "left": null,
            "margin": null,
            "max_height": null,
            "max_width": null,
            "min_height": null,
            "min_width": null,
            "object_fit": null,
            "object_position": null,
            "order": null,
            "overflow": null,
            "overflow_x": null,
            "overflow_y": null,
            "padding": null,
            "right": null,
            "top": null,
            "visibility": null,
            "width": null
          }
        },
        "89273491620a44f28d605fa575791609": {
          "model_module": "@jupyter-widgets/controls",
          "model_name": "DescriptionStyleModel",
          "model_module_version": "1.5.0",
          "state": {
            "_model_module": "@jupyter-widgets/controls",
            "_model_module_version": "1.5.0",
            "_model_name": "DescriptionStyleModel",
            "_view_count": null,
            "_view_module": "@jupyter-widgets/base",
            "_view_module_version": "1.2.0",
            "_view_name": "StyleView",
            "description_width": ""
          }
        },
        "5c163e907d364cb5a5fe93d681f7894b": {
          "model_module": "@jupyter-widgets/controls",
          "model_name": "HBoxModel",
          "model_module_version": "1.5.0",
          "state": {
            "_dom_classes": [],
            "_model_module": "@jupyter-widgets/controls",
            "_model_module_version": "1.5.0",
            "_model_name": "HBoxModel",
            "_view_count": null,
            "_view_module": "@jupyter-widgets/controls",
            "_view_module_version": "1.5.0",
            "_view_name": "HBoxView",
            "box_style": "",
            "children": [
              "IPY_MODEL_53d23372e4064df8a0790494fc9c0a95",
              "IPY_MODEL_fa15032f623a487ca05f0ca16619916f",
              "IPY_MODEL_3843afe2313c4560984cf16c8c43bb8f"
            ],
            "layout": "IPY_MODEL_f3b0192a4e734fe283771c6fc28839bb"
          }
        },
        "53d23372e4064df8a0790494fc9c0a95": {
          "model_module": "@jupyter-widgets/controls",
          "model_name": "HTMLModel",
          "model_module_version": "1.5.0",
          "state": {
            "_dom_classes": [],
            "_model_module": "@jupyter-widgets/controls",
            "_model_module_version": "1.5.0",
            "_model_name": "HTMLModel",
            "_view_count": null,
            "_view_module": "@jupyter-widgets/controls",
            "_view_module_version": "1.5.0",
            "_view_name": "HTMLView",
            "description": "",
            "description_tooltip": null,
            "layout": "IPY_MODEL_c376f6fadf5b4bdcb51607cbe6707759",
            "placeholder": "​",
            "style": "IPY_MODEL_0f3bf11da9c340aab2794e070d62dc83",
            "value": "vocab.json: 100%"
          }
        },
        "fa15032f623a487ca05f0ca16619916f": {
          "model_module": "@jupyter-widgets/controls",
          "model_name": "FloatProgressModel",
          "model_module_version": "1.5.0",
          "state": {
            "_dom_classes": [],
            "_model_module": "@jupyter-widgets/controls",
            "_model_module_version": "1.5.0",
            "_model_name": "FloatProgressModel",
            "_view_count": null,
            "_view_module": "@jupyter-widgets/controls",
            "_view_module_version": "1.5.0",
            "_view_name": "ProgressView",
            "bar_style": "success",
            "description": "",
            "description_tooltip": null,
            "layout": "IPY_MODEL_94d0ab5b7c1d4e97bacfbce262612f78",
            "max": 1042301,
            "min": 0,
            "orientation": "horizontal",
            "style": "IPY_MODEL_c9d89aca88b84321a8213ef50ba90f28",
            "value": 1042301
          }
        },
        "3843afe2313c4560984cf16c8c43bb8f": {
          "model_module": "@jupyter-widgets/controls",
          "model_name": "HTMLModel",
          "model_module_version": "1.5.0",
          "state": {
            "_dom_classes": [],
            "_model_module": "@jupyter-widgets/controls",
            "_model_module_version": "1.5.0",
            "_model_name": "HTMLModel",
            "_view_count": null,
            "_view_module": "@jupyter-widgets/controls",
            "_view_module_version": "1.5.0",
            "_view_name": "HTMLView",
            "description": "",
            "description_tooltip": null,
            "layout": "IPY_MODEL_76b9f1fb3ec9419a9b80644a1b7f3903",
            "placeholder": "​",
            "style": "IPY_MODEL_6fc524797eea4149aede634d9ff3e11e",
            "value": " 1.04M/1.04M [00:00&lt;00:00, 2.39MB/s]"
          }
        },
        "f3b0192a4e734fe283771c6fc28839bb": {
          "model_module": "@jupyter-widgets/base",
          "model_name": "LayoutModel",
          "model_module_version": "1.2.0",
          "state": {
            "_model_module": "@jupyter-widgets/base",
            "_model_module_version": "1.2.0",
            "_model_name": "LayoutModel",
            "_view_count": null,
            "_view_module": "@jupyter-widgets/base",
            "_view_module_version": "1.2.0",
            "_view_name": "LayoutView",
            "align_content": null,
            "align_items": null,
            "align_self": null,
            "border": null,
            "bottom": null,
            "display": null,
            "flex": null,
            "flex_flow": null,
            "grid_area": null,
            "grid_auto_columns": null,
            "grid_auto_flow": null,
            "grid_auto_rows": null,
            "grid_column": null,
            "grid_gap": null,
            "grid_row": null,
            "grid_template_areas": null,
            "grid_template_columns": null,
            "grid_template_rows": null,
            "height": null,
            "justify_content": null,
            "justify_items": null,
            "left": null,
            "margin": null,
            "max_height": null,
            "max_width": null,
            "min_height": null,
            "min_width": null,
            "object_fit": null,
            "object_position": null,
            "order": null,
            "overflow": null,
            "overflow_x": null,
            "overflow_y": null,
            "padding": null,
            "right": null,
            "top": null,
            "visibility": null,
            "width": null
          }
        },
        "c376f6fadf5b4bdcb51607cbe6707759": {
          "model_module": "@jupyter-widgets/base",
          "model_name": "LayoutModel",
          "model_module_version": "1.2.0",
          "state": {
            "_model_module": "@jupyter-widgets/base",
            "_model_module_version": "1.2.0",
            "_model_name": "LayoutModel",
            "_view_count": null,
            "_view_module": "@jupyter-widgets/base",
            "_view_module_version": "1.2.0",
            "_view_name": "LayoutView",
            "align_content": null,
            "align_items": null,
            "align_self": null,
            "border": null,
            "bottom": null,
            "display": null,
            "flex": null,
            "flex_flow": null,
            "grid_area": null,
            "grid_auto_columns": null,
            "grid_auto_flow": null,
            "grid_auto_rows": null,
            "grid_column": null,
            "grid_gap": null,
            "grid_row": null,
            "grid_template_areas": null,
            "grid_template_columns": null,
            "grid_template_rows": null,
            "height": null,
            "justify_content": null,
            "justify_items": null,
            "left": null,
            "margin": null,
            "max_height": null,
            "max_width": null,
            "min_height": null,
            "min_width": null,
            "object_fit": null,
            "object_position": null,
            "order": null,
            "overflow": null,
            "overflow_x": null,
            "overflow_y": null,
            "padding": null,
            "right": null,
            "top": null,
            "visibility": null,
            "width": null
          }
        },
        "0f3bf11da9c340aab2794e070d62dc83": {
          "model_module": "@jupyter-widgets/controls",
          "model_name": "DescriptionStyleModel",
          "model_module_version": "1.5.0",
          "state": {
            "_model_module": "@jupyter-widgets/controls",
            "_model_module_version": "1.5.0",
            "_model_name": "DescriptionStyleModel",
            "_view_count": null,
            "_view_module": "@jupyter-widgets/base",
            "_view_module_version": "1.2.0",
            "_view_name": "StyleView",
            "description_width": ""
          }
        },
        "94d0ab5b7c1d4e97bacfbce262612f78": {
          "model_module": "@jupyter-widgets/base",
          "model_name": "LayoutModel",
          "model_module_version": "1.2.0",
          "state": {
            "_model_module": "@jupyter-widgets/base",
            "_model_module_version": "1.2.0",
            "_model_name": "LayoutModel",
            "_view_count": null,
            "_view_module": "@jupyter-widgets/base",
            "_view_module_version": "1.2.0",
            "_view_name": "LayoutView",
            "align_content": null,
            "align_items": null,
            "align_self": null,
            "border": null,
            "bottom": null,
            "display": null,
            "flex": null,
            "flex_flow": null,
            "grid_area": null,
            "grid_auto_columns": null,
            "grid_auto_flow": null,
            "grid_auto_rows": null,
            "grid_column": null,
            "grid_gap": null,
            "grid_row": null,
            "grid_template_areas": null,
            "grid_template_columns": null,
            "grid_template_rows": null,
            "height": null,
            "justify_content": null,
            "justify_items": null,
            "left": null,
            "margin": null,
            "max_height": null,
            "max_width": null,
            "min_height": null,
            "min_width": null,
            "object_fit": null,
            "object_position": null,
            "order": null,
            "overflow": null,
            "overflow_x": null,
            "overflow_y": null,
            "padding": null,
            "right": null,
            "top": null,
            "visibility": null,
            "width": null
          }
        },
        "c9d89aca88b84321a8213ef50ba90f28": {
          "model_module": "@jupyter-widgets/controls",
          "model_name": "ProgressStyleModel",
          "model_module_version": "1.5.0",
          "state": {
            "_model_module": "@jupyter-widgets/controls",
            "_model_module_version": "1.5.0",
            "_model_name": "ProgressStyleModel",
            "_view_count": null,
            "_view_module": "@jupyter-widgets/base",
            "_view_module_version": "1.2.0",
            "_view_name": "StyleView",
            "bar_color": null,
            "description_width": ""
          }
        },
        "76b9f1fb3ec9419a9b80644a1b7f3903": {
          "model_module": "@jupyter-widgets/base",
          "model_name": "LayoutModel",
          "model_module_version": "1.2.0",
          "state": {
            "_model_module": "@jupyter-widgets/base",
            "_model_module_version": "1.2.0",
            "_model_name": "LayoutModel",
            "_view_count": null,
            "_view_module": "@jupyter-widgets/base",
            "_view_module_version": "1.2.0",
            "_view_name": "LayoutView",
            "align_content": null,
            "align_items": null,
            "align_self": null,
            "border": null,
            "bottom": null,
            "display": null,
            "flex": null,
            "flex_flow": null,
            "grid_area": null,
            "grid_auto_columns": null,
            "grid_auto_flow": null,
            "grid_auto_rows": null,
            "grid_column": null,
            "grid_gap": null,
            "grid_row": null,
            "grid_template_areas": null,
            "grid_template_columns": null,
            "grid_template_rows": null,
            "height": null,
            "justify_content": null,
            "justify_items": null,
            "left": null,
            "margin": null,
            "max_height": null,
            "max_width": null,
            "min_height": null,
            "min_width": null,
            "object_fit": null,
            "object_position": null,
            "order": null,
            "overflow": null,
            "overflow_x": null,
            "overflow_y": null,
            "padding": null,
            "right": null,
            "top": null,
            "visibility": null,
            "width": null
          }
        },
        "6fc524797eea4149aede634d9ff3e11e": {
          "model_module": "@jupyter-widgets/controls",
          "model_name": "DescriptionStyleModel",
          "model_module_version": "1.5.0",
          "state": {
            "_model_module": "@jupyter-widgets/controls",
            "_model_module_version": "1.5.0",
            "_model_name": "DescriptionStyleModel",
            "_view_count": null,
            "_view_module": "@jupyter-widgets/base",
            "_view_module_version": "1.2.0",
            "_view_name": "StyleView",
            "description_width": ""
          }
        },
        "0fbc1691bf5c44cb919e7c30988fcc10": {
          "model_module": "@jupyter-widgets/controls",
          "model_name": "HBoxModel",
          "model_module_version": "1.5.0",
          "state": {
            "_dom_classes": [],
            "_model_module": "@jupyter-widgets/controls",
            "_model_module_version": "1.5.0",
            "_model_name": "HBoxModel",
            "_view_count": null,
            "_view_module": "@jupyter-widgets/controls",
            "_view_module_version": "1.5.0",
            "_view_name": "HBoxView",
            "box_style": "",
            "children": [
              "IPY_MODEL_e0cca65a133a49779df526f86bc4e5ce",
              "IPY_MODEL_0bf80acc361542ba86dca82ea516e8bb",
              "IPY_MODEL_833f7ae3e69748d6add31afb9fd25a1b"
            ],
            "layout": "IPY_MODEL_ec8fe971da164b859ef47e9c25edcbaf"
          }
        },
        "e0cca65a133a49779df526f86bc4e5ce": {
          "model_module": "@jupyter-widgets/controls",
          "model_name": "HTMLModel",
          "model_module_version": "1.5.0",
          "state": {
            "_dom_classes": [],
            "_model_module": "@jupyter-widgets/controls",
            "_model_module_version": "1.5.0",
            "_model_name": "HTMLModel",
            "_view_count": null,
            "_view_module": "@jupyter-widgets/controls",
            "_view_module_version": "1.5.0",
            "_view_name": "HTMLView",
            "description": "",
            "description_tooltip": null,
            "layout": "IPY_MODEL_6da7a925c6294f03ae053a8ba6c0d641",
            "placeholder": "​",
            "style": "IPY_MODEL_dbf87fe8a1b84a32acbdddac6ce195c6",
            "value": "merges.txt: 100%"
          }
        },
        "0bf80acc361542ba86dca82ea516e8bb": {
          "model_module": "@jupyter-widgets/controls",
          "model_name": "FloatProgressModel",
          "model_module_version": "1.5.0",
          "state": {
            "_dom_classes": [],
            "_model_module": "@jupyter-widgets/controls",
            "_model_module_version": "1.5.0",
            "_model_name": "FloatProgressModel",
            "_view_count": null,
            "_view_module": "@jupyter-widgets/controls",
            "_view_module_version": "1.5.0",
            "_view_name": "ProgressView",
            "bar_style": "success",
            "description": "",
            "description_tooltip": null,
            "layout": "IPY_MODEL_b8faf856cbf5414aaecc8fd61631f46c",
            "max": 456318,
            "min": 0,
            "orientation": "horizontal",
            "style": "IPY_MODEL_e1d9188dab774ee6ad24c7f92033c72e",
            "value": 456318
          }
        },
        "833f7ae3e69748d6add31afb9fd25a1b": {
          "model_module": "@jupyter-widgets/controls",
          "model_name": "HTMLModel",
          "model_module_version": "1.5.0",
          "state": {
            "_dom_classes": [],
            "_model_module": "@jupyter-widgets/controls",
            "_model_module_version": "1.5.0",
            "_model_name": "HTMLModel",
            "_view_count": null,
            "_view_module": "@jupyter-widgets/controls",
            "_view_module_version": "1.5.0",
            "_view_name": "HTMLView",
            "description": "",
            "description_tooltip": null,
            "layout": "IPY_MODEL_6fb865eed98749e0abbca241b9ae45ac",
            "placeholder": "​",
            "style": "IPY_MODEL_3ec72b57b4784572a7fcde24369b201d",
            "value": " 456k/456k [00:00&lt;00:00, 2.13MB/s]"
          }
        },
        "ec8fe971da164b859ef47e9c25edcbaf": {
          "model_module": "@jupyter-widgets/base",
          "model_name": "LayoutModel",
          "model_module_version": "1.2.0",
          "state": {
            "_model_module": "@jupyter-widgets/base",
            "_model_module_version": "1.2.0",
            "_model_name": "LayoutModel",
            "_view_count": null,
            "_view_module": "@jupyter-widgets/base",
            "_view_module_version": "1.2.0",
            "_view_name": "LayoutView",
            "align_content": null,
            "align_items": null,
            "align_self": null,
            "border": null,
            "bottom": null,
            "display": null,
            "flex": null,
            "flex_flow": null,
            "grid_area": null,
            "grid_auto_columns": null,
            "grid_auto_flow": null,
            "grid_auto_rows": null,
            "grid_column": null,
            "grid_gap": null,
            "grid_row": null,
            "grid_template_areas": null,
            "grid_template_columns": null,
            "grid_template_rows": null,
            "height": null,
            "justify_content": null,
            "justify_items": null,
            "left": null,
            "margin": null,
            "max_height": null,
            "max_width": null,
            "min_height": null,
            "min_width": null,
            "object_fit": null,
            "object_position": null,
            "order": null,
            "overflow": null,
            "overflow_x": null,
            "overflow_y": null,
            "padding": null,
            "right": null,
            "top": null,
            "visibility": null,
            "width": null
          }
        },
        "6da7a925c6294f03ae053a8ba6c0d641": {
          "model_module": "@jupyter-widgets/base",
          "model_name": "LayoutModel",
          "model_module_version": "1.2.0",
          "state": {
            "_model_module": "@jupyter-widgets/base",
            "_model_module_version": "1.2.0",
            "_model_name": "LayoutModel",
            "_view_count": null,
            "_view_module": "@jupyter-widgets/base",
            "_view_module_version": "1.2.0",
            "_view_name": "LayoutView",
            "align_content": null,
            "align_items": null,
            "align_self": null,
            "border": null,
            "bottom": null,
            "display": null,
            "flex": null,
            "flex_flow": null,
            "grid_area": null,
            "grid_auto_columns": null,
            "grid_auto_flow": null,
            "grid_auto_rows": null,
            "grid_column": null,
            "grid_gap": null,
            "grid_row": null,
            "grid_template_areas": null,
            "grid_template_columns": null,
            "grid_template_rows": null,
            "height": null,
            "justify_content": null,
            "justify_items": null,
            "left": null,
            "margin": null,
            "max_height": null,
            "max_width": null,
            "min_height": null,
            "min_width": null,
            "object_fit": null,
            "object_position": null,
            "order": null,
            "overflow": null,
            "overflow_x": null,
            "overflow_y": null,
            "padding": null,
            "right": null,
            "top": null,
            "visibility": null,
            "width": null
          }
        },
        "dbf87fe8a1b84a32acbdddac6ce195c6": {
          "model_module": "@jupyter-widgets/controls",
          "model_name": "DescriptionStyleModel",
          "model_module_version": "1.5.0",
          "state": {
            "_model_module": "@jupyter-widgets/controls",
            "_model_module_version": "1.5.0",
            "_model_name": "DescriptionStyleModel",
            "_view_count": null,
            "_view_module": "@jupyter-widgets/base",
            "_view_module_version": "1.2.0",
            "_view_name": "StyleView",
            "description_width": ""
          }
        },
        "b8faf856cbf5414aaecc8fd61631f46c": {
          "model_module": "@jupyter-widgets/base",
          "model_name": "LayoutModel",
          "model_module_version": "1.2.0",
          "state": {
            "_model_module": "@jupyter-widgets/base",
            "_model_module_version": "1.2.0",
            "_model_name": "LayoutModel",
            "_view_count": null,
            "_view_module": "@jupyter-widgets/base",
            "_view_module_version": "1.2.0",
            "_view_name": "LayoutView",
            "align_content": null,
            "align_items": null,
            "align_self": null,
            "border": null,
            "bottom": null,
            "display": null,
            "flex": null,
            "flex_flow": null,
            "grid_area": null,
            "grid_auto_columns": null,
            "grid_auto_flow": null,
            "grid_auto_rows": null,
            "grid_column": null,
            "grid_gap": null,
            "grid_row": null,
            "grid_template_areas": null,
            "grid_template_columns": null,
            "grid_template_rows": null,
            "height": null,
            "justify_content": null,
            "justify_items": null,
            "left": null,
            "margin": null,
            "max_height": null,
            "max_width": null,
            "min_height": null,
            "min_width": null,
            "object_fit": null,
            "object_position": null,
            "order": null,
            "overflow": null,
            "overflow_x": null,
            "overflow_y": null,
            "padding": null,
            "right": null,
            "top": null,
            "visibility": null,
            "width": null
          }
        },
        "e1d9188dab774ee6ad24c7f92033c72e": {
          "model_module": "@jupyter-widgets/controls",
          "model_name": "ProgressStyleModel",
          "model_module_version": "1.5.0",
          "state": {
            "_model_module": "@jupyter-widgets/controls",
            "_model_module_version": "1.5.0",
            "_model_name": "ProgressStyleModel",
            "_view_count": null,
            "_view_module": "@jupyter-widgets/base",
            "_view_module_version": "1.2.0",
            "_view_name": "StyleView",
            "bar_color": null,
            "description_width": ""
          }
        },
        "6fb865eed98749e0abbca241b9ae45ac": {
          "model_module": "@jupyter-widgets/base",
          "model_name": "LayoutModel",
          "model_module_version": "1.2.0",
          "state": {
            "_model_module": "@jupyter-widgets/base",
            "_model_module_version": "1.2.0",
            "_model_name": "LayoutModel",
            "_view_count": null,
            "_view_module": "@jupyter-widgets/base",
            "_view_module_version": "1.2.0",
            "_view_name": "LayoutView",
            "align_content": null,
            "align_items": null,
            "align_self": null,
            "border": null,
            "bottom": null,
            "display": null,
            "flex": null,
            "flex_flow": null,
            "grid_area": null,
            "grid_auto_columns": null,
            "grid_auto_flow": null,
            "grid_auto_rows": null,
            "grid_column": null,
            "grid_gap": null,
            "grid_row": null,
            "grid_template_areas": null,
            "grid_template_columns": null,
            "grid_template_rows": null,
            "height": null,
            "justify_content": null,
            "justify_items": null,
            "left": null,
            "margin": null,
            "max_height": null,
            "max_width": null,
            "min_height": null,
            "min_width": null,
            "object_fit": null,
            "object_position": null,
            "order": null,
            "overflow": null,
            "overflow_x": null,
            "overflow_y": null,
            "padding": null,
            "right": null,
            "top": null,
            "visibility": null,
            "width": null
          }
        },
        "3ec72b57b4784572a7fcde24369b201d": {
          "model_module": "@jupyter-widgets/controls",
          "model_name": "DescriptionStyleModel",
          "model_module_version": "1.5.0",
          "state": {
            "_model_module": "@jupyter-widgets/controls",
            "_model_module_version": "1.5.0",
            "_model_name": "DescriptionStyleModel",
            "_view_count": null,
            "_view_module": "@jupyter-widgets/base",
            "_view_module_version": "1.2.0",
            "_view_name": "StyleView",
            "description_width": ""
          }
        },
        "206277a1652744a5b139c506b65a4017": {
          "model_module": "@jupyter-widgets/controls",
          "model_name": "HBoxModel",
          "model_module_version": "1.5.0",
          "state": {
            "_dom_classes": [],
            "_model_module": "@jupyter-widgets/controls",
            "_model_module_version": "1.5.0",
            "_model_name": "HBoxModel",
            "_view_count": null,
            "_view_module": "@jupyter-widgets/controls",
            "_view_module_version": "1.5.0",
            "_view_name": "HBoxView",
            "box_style": "",
            "children": [
              "IPY_MODEL_16e5da1f37ea46748b2e7b436fa04a26",
              "IPY_MODEL_27d6d58ebe3a434dbeb32fbe6f005f1f",
              "IPY_MODEL_e11faf0a80b44f62a33b004278721fc2"
            ],
            "layout": "IPY_MODEL_8e879a4985cf46dc9a0b9a04e3208f05"
          }
        },
        "16e5da1f37ea46748b2e7b436fa04a26": {
          "model_module": "@jupyter-widgets/controls",
          "model_name": "HTMLModel",
          "model_module_version": "1.5.0",
          "state": {
            "_dom_classes": [],
            "_model_module": "@jupyter-widgets/controls",
            "_model_module_version": "1.5.0",
            "_model_name": "HTMLModel",
            "_view_count": null,
            "_view_module": "@jupyter-widgets/controls",
            "_view_module_version": "1.5.0",
            "_view_name": "HTMLView",
            "description": "",
            "description_tooltip": null,
            "layout": "IPY_MODEL_c48ea7d36c814896ae928848bfc76cf7",
            "placeholder": "​",
            "style": "IPY_MODEL_3e4d202b429b40d7a3d49e3cb17aaa4c",
            "value": "tokenizer.json: 100%"
          }
        },
        "27d6d58ebe3a434dbeb32fbe6f005f1f": {
          "model_module": "@jupyter-widgets/controls",
          "model_name": "FloatProgressModel",
          "model_module_version": "1.5.0",
          "state": {
            "_dom_classes": [],
            "_model_module": "@jupyter-widgets/controls",
            "_model_module_version": "1.5.0",
            "_model_name": "FloatProgressModel",
            "_view_count": null,
            "_view_module": "@jupyter-widgets/controls",
            "_view_module_version": "1.5.0",
            "_view_name": "ProgressView",
            "bar_style": "success",
            "description": "",
            "description_tooltip": null,
            "layout": "IPY_MODEL_c4db1fde37214f54abad39d304367054",
            "max": 1355256,
            "min": 0,
            "orientation": "horizontal",
            "style": "IPY_MODEL_c7abd27baaff40c7849e27c470809394",
            "value": 1355256
          }
        },
        "e11faf0a80b44f62a33b004278721fc2": {
          "model_module": "@jupyter-widgets/controls",
          "model_name": "HTMLModel",
          "model_module_version": "1.5.0",
          "state": {
            "_dom_classes": [],
            "_model_module": "@jupyter-widgets/controls",
            "_model_module_version": "1.5.0",
            "_model_name": "HTMLModel",
            "_view_count": null,
            "_view_module": "@jupyter-widgets/controls",
            "_view_module_version": "1.5.0",
            "_view_name": "HTMLView",
            "description": "",
            "description_tooltip": null,
            "layout": "IPY_MODEL_0ddd66389f7d4f6eb15f013498b8103b",
            "placeholder": "​",
            "style": "IPY_MODEL_b7421d6439c6495699908de022353925",
            "value": " 1.36M/1.36M [00:00&lt;00:00, 1.54MB/s]"
          }
        },
        "8e879a4985cf46dc9a0b9a04e3208f05": {
          "model_module": "@jupyter-widgets/base",
          "model_name": "LayoutModel",
          "model_module_version": "1.2.0",
          "state": {
            "_model_module": "@jupyter-widgets/base",
            "_model_module_version": "1.2.0",
            "_model_name": "LayoutModel",
            "_view_count": null,
            "_view_module": "@jupyter-widgets/base",
            "_view_module_version": "1.2.0",
            "_view_name": "LayoutView",
            "align_content": null,
            "align_items": null,
            "align_self": null,
            "border": null,
            "bottom": null,
            "display": null,
            "flex": null,
            "flex_flow": null,
            "grid_area": null,
            "grid_auto_columns": null,
            "grid_auto_flow": null,
            "grid_auto_rows": null,
            "grid_column": null,
            "grid_gap": null,
            "grid_row": null,
            "grid_template_areas": null,
            "grid_template_columns": null,
            "grid_template_rows": null,
            "height": null,
            "justify_content": null,
            "justify_items": null,
            "left": null,
            "margin": null,
            "max_height": null,
            "max_width": null,
            "min_height": null,
            "min_width": null,
            "object_fit": null,
            "object_position": null,
            "order": null,
            "overflow": null,
            "overflow_x": null,
            "overflow_y": null,
            "padding": null,
            "right": null,
            "top": null,
            "visibility": null,
            "width": null
          }
        },
        "c48ea7d36c814896ae928848bfc76cf7": {
          "model_module": "@jupyter-widgets/base",
          "model_name": "LayoutModel",
          "model_module_version": "1.2.0",
          "state": {
            "_model_module": "@jupyter-widgets/base",
            "_model_module_version": "1.2.0",
            "_model_name": "LayoutModel",
            "_view_count": null,
            "_view_module": "@jupyter-widgets/base",
            "_view_module_version": "1.2.0",
            "_view_name": "LayoutView",
            "align_content": null,
            "align_items": null,
            "align_self": null,
            "border": null,
            "bottom": null,
            "display": null,
            "flex": null,
            "flex_flow": null,
            "grid_area": null,
            "grid_auto_columns": null,
            "grid_auto_flow": null,
            "grid_auto_rows": null,
            "grid_column": null,
            "grid_gap": null,
            "grid_row": null,
            "grid_template_areas": null,
            "grid_template_columns": null,
            "grid_template_rows": null,
            "height": null,
            "justify_content": null,
            "justify_items": null,
            "left": null,
            "margin": null,
            "max_height": null,
            "max_width": null,
            "min_height": null,
            "min_width": null,
            "object_fit": null,
            "object_position": null,
            "order": null,
            "overflow": null,
            "overflow_x": null,
            "overflow_y": null,
            "padding": null,
            "right": null,
            "top": null,
            "visibility": null,
            "width": null
          }
        },
        "3e4d202b429b40d7a3d49e3cb17aaa4c": {
          "model_module": "@jupyter-widgets/controls",
          "model_name": "DescriptionStyleModel",
          "model_module_version": "1.5.0",
          "state": {
            "_model_module": "@jupyter-widgets/controls",
            "_model_module_version": "1.5.0",
            "_model_name": "DescriptionStyleModel",
            "_view_count": null,
            "_view_module": "@jupyter-widgets/base",
            "_view_module_version": "1.2.0",
            "_view_name": "StyleView",
            "description_width": ""
          }
        },
        "c4db1fde37214f54abad39d304367054": {
          "model_module": "@jupyter-widgets/base",
          "model_name": "LayoutModel",
          "model_module_version": "1.2.0",
          "state": {
            "_model_module": "@jupyter-widgets/base",
            "_model_module_version": "1.2.0",
            "_model_name": "LayoutModel",
            "_view_count": null,
            "_view_module": "@jupyter-widgets/base",
            "_view_module_version": "1.2.0",
            "_view_name": "LayoutView",
            "align_content": null,
            "align_items": null,
            "align_self": null,
            "border": null,
            "bottom": null,
            "display": null,
            "flex": null,
            "flex_flow": null,
            "grid_area": null,
            "grid_auto_columns": null,
            "grid_auto_flow": null,
            "grid_auto_rows": null,
            "grid_column": null,
            "grid_gap": null,
            "grid_row": null,
            "grid_template_areas": null,
            "grid_template_columns": null,
            "grid_template_rows": null,
            "height": null,
            "justify_content": null,
            "justify_items": null,
            "left": null,
            "margin": null,
            "max_height": null,
            "max_width": null,
            "min_height": null,
            "min_width": null,
            "object_fit": null,
            "object_position": null,
            "order": null,
            "overflow": null,
            "overflow_x": null,
            "overflow_y": null,
            "padding": null,
            "right": null,
            "top": null,
            "visibility": null,
            "width": null
          }
        },
        "c7abd27baaff40c7849e27c470809394": {
          "model_module": "@jupyter-widgets/controls",
          "model_name": "ProgressStyleModel",
          "model_module_version": "1.5.0",
          "state": {
            "_model_module": "@jupyter-widgets/controls",
            "_model_module_version": "1.5.0",
            "_model_name": "ProgressStyleModel",
            "_view_count": null,
            "_view_module": "@jupyter-widgets/base",
            "_view_module_version": "1.2.0",
            "_view_name": "StyleView",
            "bar_color": null,
            "description_width": ""
          }
        },
        "0ddd66389f7d4f6eb15f013498b8103b": {
          "model_module": "@jupyter-widgets/base",
          "model_name": "LayoutModel",
          "model_module_version": "1.2.0",
          "state": {
            "_model_module": "@jupyter-widgets/base",
            "_model_module_version": "1.2.0",
            "_model_name": "LayoutModel",
            "_view_count": null,
            "_view_module": "@jupyter-widgets/base",
            "_view_module_version": "1.2.0",
            "_view_name": "LayoutView",
            "align_content": null,
            "align_items": null,
            "align_self": null,
            "border": null,
            "bottom": null,
            "display": null,
            "flex": null,
            "flex_flow": null,
            "grid_area": null,
            "grid_auto_columns": null,
            "grid_auto_flow": null,
            "grid_auto_rows": null,
            "grid_column": null,
            "grid_gap": null,
            "grid_row": null,
            "grid_template_areas": null,
            "grid_template_columns": null,
            "grid_template_rows": null,
            "height": null,
            "justify_content": null,
            "justify_items": null,
            "left": null,
            "margin": null,
            "max_height": null,
            "max_width": null,
            "min_height": null,
            "min_width": null,
            "object_fit": null,
            "object_position": null,
            "order": null,
            "overflow": null,
            "overflow_x": null,
            "overflow_y": null,
            "padding": null,
            "right": null,
            "top": null,
            "visibility": null,
            "width": null
          }
        },
        "b7421d6439c6495699908de022353925": {
          "model_module": "@jupyter-widgets/controls",
          "model_name": "DescriptionStyleModel",
          "model_module_version": "1.5.0",
          "state": {
            "_model_module": "@jupyter-widgets/controls",
            "_model_module_version": "1.5.0",
            "_model_name": "DescriptionStyleModel",
            "_view_count": null,
            "_view_module": "@jupyter-widgets/base",
            "_view_module_version": "1.2.0",
            "_view_name": "StyleView",
            "description_width": ""
          }
        },
        "5988f5141ae74cabb4421b8f60facafb": {
          "model_module": "@jupyter-widgets/controls",
          "model_name": "HBoxModel",
          "model_module_version": "1.5.0",
          "state": {
            "_dom_classes": [],
            "_model_module": "@jupyter-widgets/controls",
            "_model_module_version": "1.5.0",
            "_model_name": "HBoxModel",
            "_view_count": null,
            "_view_module": "@jupyter-widgets/controls",
            "_view_module_version": "1.5.0",
            "_view_name": "HBoxView",
            "box_style": "",
            "children": [
              "IPY_MODEL_b55da99443f840b18b117399f92cbae8",
              "IPY_MODEL_921c3b036bd1483a8340081c8c8c87e9",
              "IPY_MODEL_817a1764feb648afabf5e5a06f4039c3"
            ],
            "layout": "IPY_MODEL_960a0aeba2814e31bd6568bc5333bde3"
          }
        },
        "b55da99443f840b18b117399f92cbae8": {
          "model_module": "@jupyter-widgets/controls",
          "model_name": "HTMLModel",
          "model_module_version": "1.5.0",
          "state": {
            "_dom_classes": [],
            "_model_module": "@jupyter-widgets/controls",
            "_model_module_version": "1.5.0",
            "_model_name": "HTMLModel",
            "_view_count": null,
            "_view_module": "@jupyter-widgets/controls",
            "_view_module_version": "1.5.0",
            "_view_name": "HTMLView",
            "description": "",
            "description_tooltip": null,
            "layout": "IPY_MODEL_5f8e2d48da394069909890138353f31c",
            "placeholder": "​",
            "style": "IPY_MODEL_7837c3a5bf81436bb28e466a78d6e553",
            "value": "config.json: 100%"
          }
        },
        "921c3b036bd1483a8340081c8c8c87e9": {
          "model_module": "@jupyter-widgets/controls",
          "model_name": "FloatProgressModel",
          "model_module_version": "1.5.0",
          "state": {
            "_dom_classes": [],
            "_model_module": "@jupyter-widgets/controls",
            "_model_module_version": "1.5.0",
            "_model_name": "FloatProgressModel",
            "_view_count": null,
            "_view_module": "@jupyter-widgets/controls",
            "_view_module_version": "1.5.0",
            "_view_name": "ProgressView",
            "bar_style": "success",
            "description": "",
            "description_tooltip": null,
            "layout": "IPY_MODEL_717094058519406e9b77950ef7c0db6f",
            "max": 718,
            "min": 0,
            "orientation": "horizontal",
            "style": "IPY_MODEL_8ff22299609d47ef988865e7138c7e04",
            "value": 718
          }
        },
        "817a1764feb648afabf5e5a06f4039c3": {
          "model_module": "@jupyter-widgets/controls",
          "model_name": "HTMLModel",
          "model_module_version": "1.5.0",
          "state": {
            "_dom_classes": [],
            "_model_module": "@jupyter-widgets/controls",
            "_model_module_version": "1.5.0",
            "_model_name": "HTMLModel",
            "_view_count": null,
            "_view_module": "@jupyter-widgets/controls",
            "_view_module_version": "1.5.0",
            "_view_name": "HTMLView",
            "description": "",
            "description_tooltip": null,
            "layout": "IPY_MODEL_3929fda1cc304d4fad938faa746658d5",
            "placeholder": "​",
            "style": "IPY_MODEL_b3f520d9c10a4c5c950a796fd61a1921",
            "value": " 718/718 [00:00&lt;00:00, 14.5kB/s]"
          }
        },
        "960a0aeba2814e31bd6568bc5333bde3": {
          "model_module": "@jupyter-widgets/base",
          "model_name": "LayoutModel",
          "model_module_version": "1.2.0",
          "state": {
            "_model_module": "@jupyter-widgets/base",
            "_model_module_version": "1.2.0",
            "_model_name": "LayoutModel",
            "_view_count": null,
            "_view_module": "@jupyter-widgets/base",
            "_view_module_version": "1.2.0",
            "_view_name": "LayoutView",
            "align_content": null,
            "align_items": null,
            "align_self": null,
            "border": null,
            "bottom": null,
            "display": null,
            "flex": null,
            "flex_flow": null,
            "grid_area": null,
            "grid_auto_columns": null,
            "grid_auto_flow": null,
            "grid_auto_rows": null,
            "grid_column": null,
            "grid_gap": null,
            "grid_row": null,
            "grid_template_areas": null,
            "grid_template_columns": null,
            "grid_template_rows": null,
            "height": null,
            "justify_content": null,
            "justify_items": null,
            "left": null,
            "margin": null,
            "max_height": null,
            "max_width": null,
            "min_height": null,
            "min_width": null,
            "object_fit": null,
            "object_position": null,
            "order": null,
            "overflow": null,
            "overflow_x": null,
            "overflow_y": null,
            "padding": null,
            "right": null,
            "top": null,
            "visibility": null,
            "width": null
          }
        },
        "5f8e2d48da394069909890138353f31c": {
          "model_module": "@jupyter-widgets/base",
          "model_name": "LayoutModel",
          "model_module_version": "1.2.0",
          "state": {
            "_model_module": "@jupyter-widgets/base",
            "_model_module_version": "1.2.0",
            "_model_name": "LayoutModel",
            "_view_count": null,
            "_view_module": "@jupyter-widgets/base",
            "_view_module_version": "1.2.0",
            "_view_name": "LayoutView",
            "align_content": null,
            "align_items": null,
            "align_self": null,
            "border": null,
            "bottom": null,
            "display": null,
            "flex": null,
            "flex_flow": null,
            "grid_area": null,
            "grid_auto_columns": null,
            "grid_auto_flow": null,
            "grid_auto_rows": null,
            "grid_column": null,
            "grid_gap": null,
            "grid_row": null,
            "grid_template_areas": null,
            "grid_template_columns": null,
            "grid_template_rows": null,
            "height": null,
            "justify_content": null,
            "justify_items": null,
            "left": null,
            "margin": null,
            "max_height": null,
            "max_width": null,
            "min_height": null,
            "min_width": null,
            "object_fit": null,
            "object_position": null,
            "order": null,
            "overflow": null,
            "overflow_x": null,
            "overflow_y": null,
            "padding": null,
            "right": null,
            "top": null,
            "visibility": null,
            "width": null
          }
        },
        "7837c3a5bf81436bb28e466a78d6e553": {
          "model_module": "@jupyter-widgets/controls",
          "model_name": "DescriptionStyleModel",
          "model_module_version": "1.5.0",
          "state": {
            "_model_module": "@jupyter-widgets/controls",
            "_model_module_version": "1.5.0",
            "_model_name": "DescriptionStyleModel",
            "_view_count": null,
            "_view_module": "@jupyter-widgets/base",
            "_view_module_version": "1.2.0",
            "_view_name": "StyleView",
            "description_width": ""
          }
        },
        "717094058519406e9b77950ef7c0db6f": {
          "model_module": "@jupyter-widgets/base",
          "model_name": "LayoutModel",
          "model_module_version": "1.2.0",
          "state": {
            "_model_module": "@jupyter-widgets/base",
            "_model_module_version": "1.2.0",
            "_model_name": "LayoutModel",
            "_view_count": null,
            "_view_module": "@jupyter-widgets/base",
            "_view_module_version": "1.2.0",
            "_view_name": "LayoutView",
            "align_content": null,
            "align_items": null,
            "align_self": null,
            "border": null,
            "bottom": null,
            "display": null,
            "flex": null,
            "flex_flow": null,
            "grid_area": null,
            "grid_auto_columns": null,
            "grid_auto_flow": null,
            "grid_auto_rows": null,
            "grid_column": null,
            "grid_gap": null,
            "grid_row": null,
            "grid_template_areas": null,
            "grid_template_columns": null,
            "grid_template_rows": null,
            "height": null,
            "justify_content": null,
            "justify_items": null,
            "left": null,
            "margin": null,
            "max_height": null,
            "max_width": null,
            "min_height": null,
            "min_width": null,
            "object_fit": null,
            "object_position": null,
            "order": null,
            "overflow": null,
            "overflow_x": null,
            "overflow_y": null,
            "padding": null,
            "right": null,
            "top": null,
            "visibility": null,
            "width": null
          }
        },
        "8ff22299609d47ef988865e7138c7e04": {
          "model_module": "@jupyter-widgets/controls",
          "model_name": "ProgressStyleModel",
          "model_module_version": "1.5.0",
          "state": {
            "_model_module": "@jupyter-widgets/controls",
            "_model_module_version": "1.5.0",
            "_model_name": "ProgressStyleModel",
            "_view_count": null,
            "_view_module": "@jupyter-widgets/base",
            "_view_module_version": "1.2.0",
            "_view_name": "StyleView",
            "bar_color": null,
            "description_width": ""
          }
        },
        "3929fda1cc304d4fad938faa746658d5": {
          "model_module": "@jupyter-widgets/base",
          "model_name": "LayoutModel",
          "model_module_version": "1.2.0",
          "state": {
            "_model_module": "@jupyter-widgets/base",
            "_model_module_version": "1.2.0",
            "_model_name": "LayoutModel",
            "_view_count": null,
            "_view_module": "@jupyter-widgets/base",
            "_view_module_version": "1.2.0",
            "_view_name": "LayoutView",
            "align_content": null,
            "align_items": null,
            "align_self": null,
            "border": null,
            "bottom": null,
            "display": null,
            "flex": null,
            "flex_flow": null,
            "grid_area": null,
            "grid_auto_columns": null,
            "grid_auto_flow": null,
            "grid_auto_rows": null,
            "grid_column": null,
            "grid_gap": null,
            "grid_row": null,
            "grid_template_areas": null,
            "grid_template_columns": null,
            "grid_template_rows": null,
            "height": null,
            "justify_content": null,
            "justify_items": null,
            "left": null,
            "margin": null,
            "max_height": null,
            "max_width": null,
            "min_height": null,
            "min_width": null,
            "object_fit": null,
            "object_position": null,
            "order": null,
            "overflow": null,
            "overflow_x": null,
            "overflow_y": null,
            "padding": null,
            "right": null,
            "top": null,
            "visibility": null,
            "width": null
          }
        },
        "b3f520d9c10a4c5c950a796fd61a1921": {
          "model_module": "@jupyter-widgets/controls",
          "model_name": "DescriptionStyleModel",
          "model_module_version": "1.5.0",
          "state": {
            "_model_module": "@jupyter-widgets/controls",
            "_model_module_version": "1.5.0",
            "_model_name": "DescriptionStyleModel",
            "_view_count": null,
            "_view_module": "@jupyter-widgets/base",
            "_view_module_version": "1.2.0",
            "_view_name": "StyleView",
            "description_width": ""
          }
        }
      }
    }
  },
  "cells": [
    {
      "cell_type": "markdown",
      "source": [
        "# Подготовка данных"
      ],
      "metadata": {
        "id": "2x6QCLLCm0nD"
      }
    },
    {
      "cell_type": "markdown",
      "source": [
        "Считываем все файлы с диалогами из датасета"
      ],
      "metadata": {
        "id": "yihWZXJrBz8O"
      }
    },
    {
      "cell_type": "code",
      "source": [
        "import pandas as pd\n",
        "import glob\n",
        "import re"
      ],
      "metadata": {
        "id": "KkAYrIa5D8Gq"
      },
      "execution_count": 1,
      "outputs": []
    },
    {
      "cell_type": "code",
      "source": [
        "# Чтение всех CSV-файлов с диалогами\n",
        "all_files = glob.glob(\"/content/drive/MyDrive/MFTI/NLP/HouseMD/*.csv\")\n",
        "df_list = [pd.read_csv(f, encoding='utf-8', encoding_errors='replace') for f in all_files]\n",
        "df = pd.concat(df_list, ignore_index=True)\n",
        "\n",
        "print(df.columns)\n",
        "print(df.head(5))\n",
        "print(f\"Total lines: {len(df)}\")\n"
      ],
      "metadata": {
        "colab": {
          "base_uri": "https://localhost:8080/"
        },
        "collapsed": true,
        "id": "OpGRf5Zqne6t",
        "outputId": "28b80245-2357-4191-da15-10129f9e90cd"
      },
      "execution_count": 2,
      "outputs": [
        {
          "output_type": "stream",
          "name": "stdout",
          "text": [
            "Index(['name', 'line'], dtype='object')\n",
            "      name                                               line\n",
            "0    House                              Pericardial effusion.\n",
            "1     Taub   Which wasn't there last night when we did the...\n",
            "2  Foreman   She's getting worse, and there's no sign of a...\n",
            "3    Chase                                 Or maybe a cancer.\n",
            "4  Foreman   We could use your opinion, House, or at least...\n",
            "Total lines: 75312\n"
          ]
        }
      ]
    },
    {
      "cell_type": "markdown",
      "source": [
        "Очистка строк"
      ],
      "metadata": {
        "id": "frrQrpCMEO3a"
      }
    },
    {
      "cell_type": "code",
      "source": [
        "def clean_line(line: str) -> str:\n",
        "    # Превращаем в строку\n",
        "    text = str(line)\n",
        "    # Удаляем содержимое в квадратных скобках\n",
        "    text = re.sub(r'\\[.*?\\]', '', text)\n",
        "    # Удаляем содержимое в круглых скобках\n",
        "    text = re.sub(r'\\(.*?\\)', '', text)\n",
        "    # Убираем символ ќ (если встречается)\n",
        "    text = text.replace('ќ', '')\n",
        "    # Заменяем двойные кавычки\n",
        "    text = text.replace('\"\"', '\"')\n",
        "    # Удаляем лишние пробелы в начале и конце\n",
        "    text = text.strip()\n",
        "    return text"
      ],
      "metadata": {
        "id": "Yr9AEDN7EFV0"
      },
      "execution_count": 3,
      "outputs": []
    },
    {
      "cell_type": "code",
      "source": [
        "# Применяем очистку к столбцу line\n",
        "df['line'] = df['line'].apply(clean_line)\n",
        "\n",
        "# Удаляем пустые реплики\n",
        "df = df[df['line'].str.strip() != '']\n",
        "df.reset_index(drop=True, inplace=True)\n",
        "\n",
        "print(df.head(10))\n",
        "print(f\"Total lines after cleaning: {len(df)}\")"
      ],
      "metadata": {
        "colab": {
          "base_uri": "https://localhost:8080/"
        },
        "id": "onVSnzuPETqc",
        "outputId": "48639a21-7840-436d-e8ed-a23c0abda862"
      },
      "execution_count": 4,
      "outputs": [
        {
          "output_type": "stream",
          "name": "stdout",
          "text": [
            "      name                                               line\n",
            "0    House                              Pericardial effusion.\n",
            "1     Taub  Which wasn't there last night when we did the ...\n",
            "2  Foreman  She's getting worse, and there's no sign of a ...\n",
            "3    Chase                                 Or maybe a cancer.\n",
            "4  Foreman  We could use your opinion, House, or at least ...\n",
            "5    House  Jack Cannon is not dead. It's worse. Ten books...\n",
            "6     Taub              People who want to sell you the 11th.\n",
            "7    House  She was gonna kill herself. This is the final ...\n",
            "8    Chase  Is there anything in it that pertains to our c...\n",
            "9    House       Yeah. I know why she wanted to kill herself.\n",
            "Total lines after cleaning: 75213\n"
          ]
        }
      ]
    },
    {
      "cell_type": "markdown",
      "source": [
        "Идея состоит в том, чтобы для каждой реплики Хауса взять предыдущую реплику (независимо от того, кто её произнёс) и переименовать её как User"
      ],
      "metadata": {
        "id": "iHCwcCQqE91c"
      }
    },
    {
      "cell_type": "code",
      "source": [
        "data = []\n",
        "for i in range(1, len(df)):\n",
        "    # Приводим имя к строке, чтобы избежать ошибки\n",
        "    name_val = str(df.loc[i, 'name'])\n",
        "    if name_val.strip().lower() == 'house':\n",
        "        context = \"User: \" + str(df.loc[i-1, 'line'])\n",
        "        house_reply = \"House: \" + str(df.loc[i, 'line'])\n",
        "        data.append((context, house_reply))\n",
        "\n",
        "df_dialogs = pd.DataFrame(data, columns=['context', 'house_reply'])\n",
        "print(df_dialogs.head(10))\n",
        "print(f\"Total lines of dialogs: {len(df_dialogs)}\")"
      ],
      "metadata": {
        "colab": {
          "base_uri": "https://localhost:8080/"
        },
        "id": "yNy_OuAgFEfU",
        "outputId": "3dd9061c-7d58-4479-f7f4-0b83734e7f5b"
      },
      "execution_count": 8,
      "outputs": [
        {
          "output_type": "stream",
          "name": "stdout",
          "text": [
            "                                             context  \\\n",
            "0  User: We could use your opinion, House, or at ...   \n",
            "1        User: People who want to sell you the 11th.   \n",
            "2  User: Is there anything in it that pertains to...   \n",
            "3  User: Yeah. I know why she wanted to kill hers...   \n",
            "4  User: How do we know this mentor character's r...   \n",
            "5  User: If we add those to the symptoms we've se...   \n",
            "6  User: Given good!  !ish behavior and 8 of 12 m...   \n",
            "7                                         User: Yes?   \n",
            "8                  User: Are you trying to annoy us?   \n",
            "9              User: We need you to show us remorse.   \n",
            "\n",
            "                                         house_reply  \n",
            "0  House: Jack Cannon is not dead. It's worse. Te...  \n",
            "1  House: She was gonna kill herself. This is the...  \n",
            "2  House: Yeah. I know why she wanted to kill her...  \n",
            "3  House: His mentor, Helen Rutherford, has contr...  \n",
            "4  House: Helen dies halfway through the book. Sh...  \n",
            "5                             House: Can't be lupus.  \n",
            "6                                        House: Yes.  \n",
            "7  House: Well, that's the correct answer, isn't it?  \n",
            "8  House: No, I'm just trying to give you the ans...  \n",
            "9  House: Is that how our system works? Release t...  \n",
            "Total lines of dialogs: 21809\n"
          ]
        }
      ]
    },
    {
      "cell_type": "markdown",
      "source": [
        "Сохранение результата в csv для дальнейшей работы"
      ],
      "metadata": {
        "id": "tNU8WxYvGSrT"
      }
    },
    {
      "cell_type": "code",
      "source": [
        "output_path = \"/content/drive/MyDrive/MFTI/NLP/HouseMD/housemd_cleaned.csv\"\n",
        "df_dialogs.to_csv(output_path, index=False)"
      ],
      "metadata": {
        "id": "Ar13mShkGXQM"
      },
      "execution_count": 9,
      "outputs": []
    },
    {
      "cell_type": "markdown",
      "source": [
        "#Обучение модели"
      ],
      "metadata": {
        "id": "4UDHFXU0m-4e"
      }
    },
    {
      "cell_type": "markdown",
      "source": [
        "Подготовка датасета для генеративного fine-tuning"
      ],
      "metadata": {
        "id": "h5nU3mdKHkMK"
      }
    },
    {
      "cell_type": "code",
      "source": [
        "import torch\n",
        "from torch.utils.data import Dataset\n",
        "from transformers import GPT2Tokenizer\n",
        "import pandas as pd"
      ],
      "metadata": {
        "id": "e8O0GKq0HnC6"
      },
      "execution_count": 1,
      "outputs": []
    },
    {
      "cell_type": "markdown",
      "source": [
        "Создадим класс HouseDialogDataset, который будет загружать диалоговые пары из CSV и токенизировать их в нужный формат"
      ],
      "metadata": {
        "id": "aZBd38LYHzms"
      }
    },
    {
      "cell_type": "code",
      "source": [
        "class HouseDialogDataset(Dataset):\n",
        "    def __init__(self, csv_file, tokenizer, max_length=256):\n",
        "        self.data = pd.read_csv(csv_file)\n",
        "        self.tokenizer = tokenizer\n",
        "        self.max_length = max_length\n",
        "\n",
        "    def __len__(self):\n",
        "        return len(self.data)\n",
        "\n",
        "    def __getitem__(self, idx):\n",
        "        # Получаем строку из DataFrame\n",
        "        row = self.data.iloc[idx]\n",
        "        # Формируем единый текстовый блок: контекст и ответ\n",
        "        text = f\"{row['context']}\\n{row['house_reply']}\"\n",
        "        tokens = self.tokenizer(\n",
        "            text,\n",
        "            truncation=True,\n",
        "            max_length=self.max_length,\n",
        "            padding=\"max_length\",\n",
        "            return_tensors=\"pt\"\n",
        "        )\n",
        "        input_ids = tokens.input_ids.squeeze()  # убираем размер батча\n",
        "        attention_mask = tokens.attention_mask.squeeze()\n",
        "        labels = input_ids.clone()\n",
        "        # Маскируем паддинговые токены, чтобы не учитывались в loss\n",
        "        labels[attention_mask == 0] = -100\n",
        "        return {\"input_ids\": input_ids, \"attention_mask\": attention_mask, \"labels\": labels}"
      ],
      "metadata": {
        "id": "MfDCR45fHvS8"
      },
      "execution_count": 2,
      "outputs": []
    },
    {
      "cell_type": "markdown",
      "source": [
        "Инициализируем токенайзер gpt2-medium"
      ],
      "metadata": {
        "id": "N2kjx5G7H-g9"
      }
    },
    {
      "cell_type": "code",
      "source": [
        "# Инициализация токенизатора\n",
        "model_name = \"gpt2-medium\"\n",
        "tokenizer = GPT2Tokenizer.from_pretrained(model_name)\n",
        "tokenizer.pad_token = tokenizer.eos_token"
      ],
      "metadata": {
        "id": "jPhODA6lfxDg"
      },
      "execution_count": 5,
      "outputs": []
    },
    {
      "cell_type": "markdown",
      "source": [
        "Провери длинну токенов в диалогах"
      ],
      "metadata": {
        "id": "tOYHuJ5ZdCkI"
      }
    },
    {
      "cell_type": "code",
      "source": [
        "import matplotlib.pyplot as plt\n",
        "\n",
        "# Загружаем датасет диалогов, который мы ранее сформировали\n",
        "df_dialogs = pd.read_csv('/content/drive/MyDrive/MFTI/NLP/HouseMD/housemd_cleaned.csv')\n",
        "\n",
        "# Объединяем контекст и ответ в один текстовый блок\n",
        "df_dialogs['dialogue'] = df_dialogs['context'] + \"\\n\" + df_dialogs['house_reply']\n",
        "\n",
        "# Вычисляем длину каждого диалога в токенах, используя токенизатор\n",
        "token_lengths = df_dialogs['dialogue'].apply(lambda x: len(tokenizer.encode(x)))\n",
        "\n",
        "# Выводим статистику по длинам\n",
        "print(\"Статистика по длинам токенов:\")\n",
        "print(token_lengths.describe())\n",
        "\n",
        "# Строим гистограмму распределения длин токенизированных диалогов\n",
        "plt.figure(figsize=(10, 6))\n",
        "plt.hist(token_lengths, bins=30, color='skyblue', edgecolor='black')\n",
        "plt.xlabel('Количество токенов')\n",
        "plt.ylabel('Количество диалогов')\n",
        "plt.title('Распределение длин токенизированных диалогов')\n",
        "plt.show()\n"
      ],
      "metadata": {
        "colab": {
          "base_uri": "https://localhost:8080/",
          "height": 617
        },
        "id": "5YIqW67udC0W",
        "outputId": "a5fd4ea0-558f-4a75-ff4f-279612c6575c"
      },
      "execution_count": 6,
      "outputs": [
        {
          "output_type": "stream",
          "name": "stdout",
          "text": [
            "Статистика по длинам токенов:\n",
            "count    21809.000000\n",
            "mean        38.142143\n",
            "std         21.230841\n",
            "min          8.000000\n",
            "25%         23.000000\n",
            "50%         33.000000\n",
            "75%         47.000000\n",
            "max        259.000000\n",
            "Name: dialogue, dtype: float64\n"
          ]
        },
        {
          "output_type": "display_data",
          "data": {
            "text/plain": [
              "<Figure size 1000x600 with 1 Axes>"
            ],
            "image/png": "[encoded data removed]"
          },
          "metadata": {}
        }
      ]
    },
    {
      "cell_type": "markdown",
      "source": [
        "Из графика видно, что возможну установить максимальную длинну диалогов в 128 токенов"
      ],
      "metadata": {
        "id": "K8_jW6kaeOG-"
      }
    },
    {
      "cell_type": "code",
      "source": [
        "# Создаем датасет\n",
        "csv_path = \"/content/drive/MyDrive/MFTI/NLP/HouseMD/housemd_cleaned.csv\"\n",
        "dataset = HouseDialogDataset(csv_path, tokenizer, max_length=128)"
      ],
      "metadata": {
        "id": "IjHfB51zH_M0"
      },
      "execution_count": 7,
      "outputs": []
    },
    {
      "cell_type": "markdown",
      "source": [
        "Пример токенизации"
      ],
      "metadata": {
        "id": "rn_dkjinLESi"
      }
    },
    {
      "cell_type": "code",
      "source": [
        "sample = dataset[0]\n",
        "print(tokenizer.decode(sample[\"input_ids\"], skip_special_tokens=True))"
      ],
      "metadata": {
        "colab": {
          "base_uri": "https://localhost:8080/"
        },
        "id": "KaZaYRpGK_YF",
        "outputId": "ab23d171-64c7-4832-c5af-0c30da35114b"
      },
      "execution_count": 8,
      "outputs": [
        {
          "output_type": "stream",
          "name": "stdout",
          "text": [
            "User: We could use your opinion, House, or at least your attention.\n",
            "House: Jack Cannon is not dead. It's worse. Ten books leading up to a final confrontation. She ends it on a cliffhanger. Who does that?\n"
          ]
        }
      ]
    },
    {
      "cell_type": "markdown",
      "source": [
        "Поверик количество доступных ядер"
      ],
      "metadata": {
        "id": "8TjLJ6JKfD9h"
      }
    },
    {
      "cell_type": "code",
      "source": [
        "import os\n",
        "print(os.cpu_count())"
      ],
      "metadata": {
        "colab": {
          "base_uri": "https://localhost:8080/"
        },
        "id": "-LAfcrGafEFd",
        "outputId": "2c5d183c-cf12-44f4-8e34-433ed6ae7633"
      },
      "execution_count": 9,
      "outputs": [
        {
          "output_type": "stream",
          "name": "stdout",
          "text": [
            "12\n"
          ]
        }
      ]
    },
    {
      "cell_type": "code",
      "source": [
        "from transformers import GPT2LMHeadModel, Trainer, TrainingArguments\n",
        "\n",
        "# Загружаем предобученную модель GPT-2\n",
        "model = GPT2LMHeadModel.from_pretrained(model_name)\n",
        "\n",
        "# Определяем аргументы обучения\n",
        "training_args = TrainingArguments(\n",
        "    output_dir=\"/content/drive/MyDrive/MFTI/NLP/house_gpt2\",\n",
        "    num_train_epochs=3,                       # число эпох\n",
        "    per_device_train_batch_size=32,            # размер батча\n",
        "    per_device_eval_batch_size=32,\n",
        "    evaluation_strategy=\"steps\",\n",
        "    save_steps=500,\n",
        "    eval_steps=100,\n",
        "    logging_steps=50,\n",
        "    learning_rate=5e-5,\n",
        "    weight_decay=0.01,\n",
        "    warmup_steps=100,\n",
        "    save_total_limit=2,\n",
        "    report_to=[],\n",
        "    fp16=True,\n",
        "    dataloader_num_workers=12\n",
        ")\n",
        "\n",
        "# Используем training set для проверки\n",
        "trainer = Trainer(\n",
        "    model=model,\n",
        "    args=training_args,\n",
        "    train_dataset=dataset,\n",
        "    eval_dataset=dataset\n",
        ")\n",
        "\n",
        "# Запускаем обучение\n",
        "trainer.train()\n"
      ],
      "metadata": {
        "colab": {
          "base_uri": "https://localhost:8080/",
          "height": 826
        },
        "id": "bQGtcRO4JDYs",
        "outputId": "16950011-8f9f-418f-d1df-d8020871a4bb"
      },
      "execution_count": 12,
      "outputs": [
        {
          "output_type": "stream",
          "name": "stderr",
          "text": [
            "/usr/local/lib/python3.11/dist-packages/transformers/training_args.py:1594: FutureWarning: `evaluation_strategy` is deprecated and will be removed in version 4.46 of 🤗 Transformers. Use `eval_strategy` instead\n",
            "  warnings.warn(\n"
          ]
        },
        {
          "output_type": "display_data",
          "data": {
            "text/plain": [
              "<IPython.core.display.HTML object>"
            ],
            "text/html": [
              "\n",
              "    <div>\n",
              "      \n",
              "      <progress value='2046' max='2046' style='width:300px; height:20px; vertical-align: middle;'></progress>\n",
              "      [2046/2046 21:20, Epoch 3/3]\n",
              "    </div>\n",
              "    <table border=\"1\" class=\"dataframe\">\n",
              "  <thead>\n",
              " <tr style=\"text-align: left;\">\n",
              "      <th>Step</th>\n",
              "      <th>Training Loss</th>\n",
              "      <th>Validation Loss</th>\n",
              "    </tr>\n",
              "  </thead>\n",
              "  <tbody>\n",
              "    <tr>\n",
              "      <td>100</td>\n",
              "      <td>3.199100</td>\n",
              "      <td>3.112190</td>\n",
              "    </tr>\n",
              "    <tr>\n",
              "      <td>200</td>\n",
              "      <td>3.068000</td>\n",
              "      <td>3.002346</td>\n",
              "    </tr>\n",
              "    <tr>\n",
              "      <td>300</td>\n",
              "      <td>3.023800</td>\n",
              "      <td>2.931422</td>\n",
              "    </tr>\n",
              "    <tr>\n",
              "      <td>400</td>\n",
              "      <td>3.006700</td>\n",
              "      <td>2.866679</td>\n",
              "    </tr>\n",
              "    <tr>\n",
              "      <td>500</td>\n",
              "      <td>2.972700</td>\n",
              "      <td>2.813822</td>\n",
              "    </tr>\n",
              "    <tr>\n",
              "      <td>600</td>\n",
              "      <td>2.957600</td>\n",
              "      <td>2.774696</td>\n",
              "    </tr>\n",
              "    <tr>\n",
              "      <td>700</td>\n",
              "      <td>2.851900</td>\n",
              "      <td>2.716245</td>\n",
              "    </tr>\n",
              "    <tr>\n",
              "      <td>800</td>\n",
              "      <td>2.719200</td>\n",
              "      <td>2.680770</td>\n",
              "    </tr>\n",
              "    <tr>\n",
              "      <td>900</td>\n",
              "      <td>2.720400</td>\n",
              "      <td>2.648644</td>\n",
              "    </tr>\n",
              "    <tr>\n",
              "      <td>1000</td>\n",
              "      <td>2.721100</td>\n",
              "      <td>2.623089</td>\n",
              "    </tr>\n",
              "    <tr>\n",
              "      <td>1100</td>\n",
              "      <td>2.706200</td>\n",
              "      <td>2.595885</td>\n",
              "    </tr>\n",
              "    <tr>\n",
              "      <td>1200</td>\n",
              "      <td>2.700200</td>\n",
              "      <td>2.575710</td>\n",
              "    </tr>\n",
              "    <tr>\n",
              "      <td>1300</td>\n",
              "      <td>2.742600</td>\n",
              "      <td>2.555495</td>\n",
              "    </tr>\n",
              "    <tr>\n",
              "      <td>1400</td>\n",
              "      <td>2.598400</td>\n",
              "      <td>2.525069</td>\n",
              "    </tr>\n",
              "    <tr>\n",
              "      <td>1500</td>\n",
              "      <td>2.550200</td>\n",
              "      <td>2.509140</td>\n",
              "    </tr>\n",
              "    <tr>\n",
              "      <td>1600</td>\n",
              "      <td>2.556300</td>\n",
              "      <td>2.496669</td>\n",
              "    </tr>\n",
              "    <tr>\n",
              "      <td>1700</td>\n",
              "      <td>2.573600</td>\n",
              "      <td>2.485280</td>\n",
              "    </tr>\n",
              "    <tr>\n",
              "      <td>1800</td>\n",
              "      <td>2.570000</td>\n",
              "      <td>2.476669</td>\n",
              "    </tr>\n",
              "    <tr>\n",
              "      <td>1900</td>\n",
              "      <td>2.537400</td>\n",
              "      <td>2.470740</td>\n",
              "    </tr>\n",
              "    <tr>\n",
              "      <td>2000</td>\n",
              "      <td>2.546800</td>\n",
              "      <td>2.467553</td>\n",
              "    </tr>\n",
              "  </tbody>\n",
              "</table><p>"
            ]
          },
          "metadata": {}
        },
        {
          "output_type": "execute_result",
          "data": {
            "text/plain": [
              "TrainOutput(global_step=2046, training_loss=2.7793024161927047, metrics={'train_runtime': 1281.9633, 'train_samples_per_second': 51.037, 'train_steps_per_second': 1.596, 'total_flos': 1.5190525085220864e+16, 'train_loss': 2.7793024161927047, 'epoch': 3.0})"
            ]
          },
          "metadata": {},
          "execution_count": 12
        }
      ]
    },
    {
      "cell_type": "markdown",
      "source": [
        "Визуализируем резельтаты обучения"
      ],
      "metadata": {
        "id": "6_FgEaHKkX05"
      }
    },
    {
      "cell_type": "code",
      "source": [
        "# Извлекаем историю логов\n",
        "log_history = trainer.state.log_history\n",
        "\n",
        "# Фильтруем записи, содержащие \"loss\"\n",
        "loss_logs = [entry for entry in log_history if \"loss\" in entry]\n",
        "\n",
        "# Получаем шаги и значения loss\n",
        "steps = [entry[\"step\"] for entry in loss_logs]\n",
        "losses = [entry[\"loss\"] for entry in loss_logs]\n",
        "\n",
        "plt.figure(figsize=(10, 6))\n",
        "plt.plot(steps, losses, marker='o')\n",
        "plt.xlabel(\"Шаг\")\n",
        "plt.ylabel(\"Training Loss\")\n",
        "plt.title(\"График Training Loss\")\n",
        "plt.grid(True)\n",
        "plt.show()"
      ],
      "metadata": {
        "colab": {
          "base_uri": "https://localhost:8080/",
          "height": 450
        },
        "id": "4opn1LNHkh15",
        "outputId": "4a357ced-c546-4aad-fe4c-39906cf725cb"
      },
      "execution_count": 13,
      "outputs": [
        {
          "output_type": "display_data",
          "data": {
            "text/plain": [
              "<Figure size 1000x600 with 1 Axes>"
            ],
            "image/png": "[encoded data removed]"
          },
          "metadata": {}
        }
      ]
    },
    {
      "cell_type": "markdown",
      "source": [
        "Сохраним логи обучения в облаке"
      ],
      "metadata": {
        "id": "o9LgK0hNkmXV"
      }
    },
    {
      "cell_type": "code",
      "source": [
        "import json\n",
        "\n",
        "with open(\"/content/drive/MyDrive/MFTI/NLP/house_logs.json\", \"w\") as f:\n",
        "    json.dump(trainer.state.log_history, f, indent=4)"
      ],
      "metadata": {
        "id": "m0f6eW-WkpKU"
      },
      "execution_count": 14,
      "outputs": []
    },
    {
      "cell_type": "markdown",
      "source": [
        "#Инференс модели"
      ],
      "metadata": {
        "id": "AjIjlSppmuRA"
      }
    },
    {
      "cell_type": "markdown",
      "source": [
        "Импортировать библиотек"
      ],
      "metadata": {
        "id": "eJLJ7N1BnLbI"
      }
    },
    {
      "cell_type": "code",
      "source": [
        "import torch\n",
        "from transformers import GPT2LMHeadModel, GPT2Tokenizer"
      ],
      "metadata": {
        "id": "Gphv9a9Cmx3o"
      },
      "execution_count": 1,
      "outputs": []
    },
    {
      "cell_type": "code",
      "source": [
        "# Путь к сохранённой модели (контрольные точки)\n",
        "model_path = \"/content/drive/MyDrive/MFTI/NLP/house_gpt2/checkpoint-2046\"\n",
        "\n",
        "# Загрузите токенизатор и модель\n",
        "tokenizer = GPT2Tokenizer.from_pretrained(\"gpt2-medium\")\n",
        "model = GPT2LMHeadModel.from_pretrained(model_path)\n",
        "\n",
        "tokenizer.pad_token = tokenizer.eos_token"
      ],
      "metadata": {
        "colab": {
          "base_uri": "https://localhost:8080/",
          "height": 301,
          "referenced_widgets": [
            "ba6d3372e69040b1b6dc34e0876ac935",
            "ba9ecdad1876496f8efc05429791116e",
            "0dbcfe7d699f4bb3a4edd0191949dace",
            "ffe5aa1f3dc547938a09af07e1f1f02d",
            "3689ffa2eccf4be39089ac9e19199a6b",
            "0c7c6e10dd17466e914b2a354a2d965e",
            "da1a839e385c4d7f85960748dfeb263a",
            "700cf1104a0547c28146b8ccf66df7f6",
            "4fc21924850049249f2c7eede3b88bd3",
            "37552c33407944ef9aa54f26e9b0f718",
            "89273491620a44f28d605fa575791609",
            "5c163e907d364cb5a5fe93d681f7894b",
            "53d23372e4064df8a0790494fc9c0a95",
            "fa15032f623a487ca05f0ca16619916f",
            "3843afe2313c4560984cf16c8c43bb8f",
            "f3b0192a4e734fe283771c6fc28839bb",
            "c376f6fadf5b4bdcb51607cbe6707759",
            "0f3bf11da9c340aab2794e070d62dc83",
            "94d0ab5b7c1d4e97bacfbce262612f78",
            "c9d89aca88b84321a8213ef50ba90f28",
            "76b9f1fb3ec9419a9b80644a1b7f3903",
            "6fc524797eea4149aede634d9ff3e11e",
            "0fbc1691bf5c44cb919e7c30988fcc10",
            "e0cca65a133a49779df526f86bc4e5ce",
            "0bf80acc361542ba86dca82ea516e8bb",
            "833f7ae3e69748d6add31afb9fd25a1b",
            "ec8fe971da164b859ef47e9c25edcbaf",
            "6da7a925c6294f03ae053a8ba6c0d641",
            "dbf87fe8a1b84a32acbdddac6ce195c6",
            "b8faf856cbf5414aaecc8fd61631f46c",
            "e1d9188dab774ee6ad24c7f92033c72e",
            "6fb865eed98749e0abbca241b9ae45ac",
            "3ec72b57b4784572a7fcde24369b201d",
            "206277a1652744a5b139c506b65a4017",
            "16e5da1f37ea46748b2e7b436fa04a26",
            "27d6d58ebe3a434dbeb32fbe6f005f1f",
            "e11faf0a80b44f62a33b004278721fc2",
            "8e879a4985cf46dc9a0b9a04e3208f05",
            "c48ea7d36c814896ae928848bfc76cf7",
            "3e4d202b429b40d7a3d49e3cb17aaa4c",
            "c4db1fde37214f54abad39d304367054",
            "c7abd27baaff40c7849e27c470809394",
            "0ddd66389f7d4f6eb15f013498b8103b",
            "b7421d6439c6495699908de022353925",
            "5988f5141ae74cabb4421b8f60facafb",
            "b55da99443f840b18b117399f92cbae8",
            "921c3b036bd1483a8340081c8c8c87e9",
            "817a1764feb648afabf5e5a06f4039c3",
            "960a0aeba2814e31bd6568bc5333bde3",
            "5f8e2d48da394069909890138353f31c",
            "7837c3a5bf81436bb28e466a78d6e553",
            "717094058519406e9b77950ef7c0db6f",
            "8ff22299609d47ef988865e7138c7e04",
            "3929fda1cc304d4fad938faa746658d5",
            "b3f520d9c10a4c5c950a796fd61a1921"
          ]
        },
        "id": "X99XT7w6nUfl",
        "outputId": "2a0f6d01-d80e-40ff-ba7e-68c5b9e623cd"
      },
      "execution_count": 7,
      "outputs": [
        {
          "output_type": "stream",
          "name": "stderr",
          "text": [
            "/usr/local/lib/python3.11/dist-packages/huggingface_hub/utils/_auth.py:94: UserWarning: \n",
            "The secret `HF_TOKEN` does not exist in your Colab secrets.\n",
            "To authenticate with the Hugging Face Hub, create a token in your settings tab (https://huggingface.co/settings/tokens), set it as secret in your Google Colab and restart your session.\n",
            "You will be able to reuse this secret in all of your notebooks.\n",
            "Please note that authentication is recommended but still optional to access public models or datasets.\n",
            "  warnings.warn(\n"
          ]
        },
        {
          "output_type": "display_data",
          "data": {
            "text/plain": [
              "tokenizer_config.json:   0%|          | 0.00/26.0 [00:00<?, ?B/s]"
            ],
            "application/vnd.jupyter.widget-view+json": {
              "version_major": 2,
              "version_minor": 0,
              "model_id": "ba6d3372e69040b1b6dc34e0876ac935"
            }
          },
          "metadata": {}
        },
        {
          "output_type": "display_data",
          "data": {
            "text/plain": [
              "vocab.json:   0%|          | 0.00/1.04M [00:00<?, ?B/s]"
            ],
            "application/vnd.jupyter.widget-view+json": {
              "version_major": 2,
              "version_minor": 0,
              "model_id": "5c163e907d364cb5a5fe93d681f7894b"
            }
          },
          "metadata": {}
        },
        {
          "output_type": "display_data",
          "data": {
            "text/plain": [
              "merges.txt:   0%|          | 0.00/456k [00:00<?, ?B/s]"
            ],
            "application/vnd.jupyter.widget-view+json": {
              "version_major": 2,
              "version_minor": 0,
              "model_id": "0fbc1691bf5c44cb919e7c30988fcc10"
            }
          },
          "metadata": {}
        },
        {
          "output_type": "display_data",
          "data": {
            "text/plain": [
              "tokenizer.json:   0%|          | 0.00/1.36M [00:00<?, ?B/s]"
            ],
            "application/vnd.jupyter.widget-view+json": {
              "version_major": 2,
              "version_minor": 0,
              "model_id": "206277a1652744a5b139c506b65a4017"
            }
          },
          "metadata": {}
        },
        {
          "output_type": "display_data",
          "data": {
            "text/plain": [
              "config.json:   0%|          | 0.00/718 [00:00<?, ?B/s]"
            ],
            "application/vnd.jupyter.widget-view+json": {
              "version_major": 2,
              "version_minor": 0,
              "model_id": "5988f5141ae74cabb4421b8f60facafb"
            }
          },
          "metadata": {}
        }
      ]
    },
    {
      "cell_type": "code",
      "source": [
        "def generate_house_reply(user_input, max_length=100):\n",
        "    # Формируем промпт: включаем вход пользователя и метку \"House:\"\n",
        "    prompt = f\"User: {user_input}\\nHouse:\"\n",
        "    input_ids = tokenizer.encode(prompt, return_tensors=\"pt\")\n",
        "\n",
        "    # Генерация ответа с использованием настроек сэмплинга\n",
        "    with torch.no_grad():\n",
        "        output_ids = model.generate(\n",
        "            input_ids=input_ids,\n",
        "            max_length=max_length,\n",
        "            pad_token_id=tokenizer.eos_token_id,\n",
        "            do_sample=True,\n",
        "            top_k=50,\n",
        "            top_p=0.9,\n",
        "            temperature=0.7,\n",
        "            no_repeat_ngram_size=3\n",
        "        )\n",
        "    generated_text = tokenizer.decode(output_ids[0], skip_special_tokens=True)\n",
        "    # Извлекаем часть после \"House:\" для чистоты\n",
        "    if \"House:\" in generated_text:\n",
        "        house_text = generated_text.split(\"House:\")[1]\n",
        "    else:\n",
        "        house_text = generated_text\n",
        "    return house_text.strip()"
      ],
      "metadata": {
        "id": "CJHhex9JpjRY"
      },
      "execution_count": 8,
      "outputs": []
    },
    {
      "cell_type": "code",
      "source": [
        "# Пример генерации ответа\n",
        "user_query = \"What's your diagnosis?\"\n",
        "reply = generate_house_reply(user_query)\n",
        "print(\"User:\", user_query)\n",
        "print(\"House:\", reply)"
      ],
      "metadata": {
        "colab": {
          "base_uri": "https://localhost:8080/"
        },
        "id": "4wyugwpHpk_a",
        "outputId": "e4250829-65a8-449f-97b0-08f5d3f4f5c5"
      },
      "execution_count": 9,
      "outputs": [
        {
          "output_type": "stream",
          "name": "stderr",
          "text": [
            "The attention mask is not set and cannot be inferred from input because pad token is same as eos token. As a consequence, you may observe unexpected behavior. Please pass your input's `attention_mask` to obtain reliable results.\n"
          ]
        },
        {
          "output_type": "stream",
          "name": "stdout",
          "text": [
            "User: What's your diagnosis?\n",
            "House: That I'm going to have to make a decision that will affect Every person I care about. Which means it's time for me to make the tough call. Which, by the way, I'm not going to make.  I'm just not ready to make it just yet.  And that's okay. I'm fine. I don't Even want to make that call.  'Cause if it means I have to do this, I\n"
          ]
        }
      ]
    }
  ]
}